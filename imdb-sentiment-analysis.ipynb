{
 "cells": [
  {
   "cell_type": "markdown",
   "id": "5daafe52-0daf-40e6-bbdd-b99ed9587974",
   "metadata": {},
   "source": [
    "## Imports and Dataset Loading"
   ]
  },
  {
   "cell_type": "code",
   "execution_count": 2,
   "id": "cb6478f4-5ad4-4a88-98cb-461830d147c3",
   "metadata": {},
   "outputs": [],
   "source": [
    "import tensorflow as tf\n",
    "from tensorflow.keras.datasets import imdb\n",
    "from tensorflow.keras.models import Sequential\n",
    "from tensorflow.keras.layers import Embedding, GRU, Bidirectional, Dropout, Dense, LayerNormalization\n",
    "from tensorflow.keras.preprocessing.sequence import pad_sequences\n",
    "from tensorflow.keras.callbacks import EarlyStopping, ReduceLROnPlateau\n",
    "from sklearn.metrics import classification_report, confusion_matrix\n",
    "import seaborn as sns\n",
    "import matplotlib.pyplot as plt\n",
    "\n",
    "# Load the IMDb dataset\n",
    "# Limit the number of words to vocab_size and pad sequences to maxlen\n",
    "(vocab_size, embedding_dim, maxlen) = (10000, 128, 500)\n",
    "(train_data, train_labels), (test_data, test_labels) = imdb.load_data(num_words=vocab_size)"
   ]
  },
  {
   "cell_type": "markdown",
   "id": "ddb36a52-eae4-4b74-b5c5-776b8611fda8",
   "metadata": {},
   "source": [
    "## Data Preprocessing"
   ]
  },
  {
   "cell_type": "code",
   "execution_count": 4,
   "id": "f135df25-f00c-438a-80de-6729ccb03f24",
   "metadata": {},
   "outputs": [],
   "source": [
    "# Pad sequences to ensure uniform input size\n",
    "# This converts each review to a fixed length of maxlen\n",
    "train_data_padded = pad_sequences(train_data, maxlen=maxlen)\n",
    "test_data_padded = pad_sequences(test_data, maxlen=maxlen)"
   ]
  },
  {
   "cell_type": "markdown",
   "id": "3a8b2c86-04e1-487c-8ba8-09e995b80829",
   "metadata": {},
   "source": [
    "## Define the Model"
   ]
  },
  {
   "cell_type": "code",
   "execution_count": 6,
   "id": "87e27cae-d5ed-470f-86e4-0dade04536de",
   "metadata": {},
   "outputs": [
    {
     "name": "stdout",
     "output_type": "stream",
     "text": [
      "Model: \"sequential\"\n",
      "_________________________________________________________________\n",
      " Layer (type)                Output Shape              Param #   \n",
      "=================================================================\n",
      " embedding (Embedding)       (None, 500, 128)          1280000   \n",
      "                                                                 \n",
      " bidirectional (Bidirectiona  (None, 500, 256)         198144    \n",
      " l)                                                              \n",
      "                                                                 \n",
      " layer_normalization (LayerN  (None, 500, 256)         512       \n",
      " ormalization)                                                   \n",
      "                                                                 \n",
      " dropout (Dropout)           (None, 500, 256)          0         \n",
      "                                                                 \n",
      " bidirectional_1 (Bidirectio  (None, 500, 128)         123648    \n",
      " nal)                                                            \n",
      "                                                                 \n",
      " layer_normalization_1 (Laye  (None, 500, 128)         256       \n",
      " rNormalization)                                                 \n",
      "                                                                 \n",
      " dropout_1 (Dropout)         (None, 500, 128)          0         \n",
      "                                                                 \n",
      " bidirectional_2 (Bidirectio  (None, 64)               31104     \n",
      " nal)                                                            \n",
      "                                                                 \n",
      " dropout_2 (Dropout)         (None, 64)                0         \n",
      "                                                                 \n",
      " dense (Dense)               (None, 1)                 65        \n",
      "                                                                 \n",
      "=================================================================\n",
      "Total params: 1,633,729\n",
      "Trainable params: 1,633,729\n",
      "Non-trainable params: 0\n",
      "_________________________________________________________________\n"
     ]
    }
   ],
   "source": [
    "from tensorflow.keras import regularizers\n",
    "\n",
    "# Define an enhanced RNN model\n",
    "model = Sequential()\n",
    "# Embedding layer: Converts word indices to dense vectors of fixed size\n",
    "model.add(Embedding(vocab_size, embedding_dim, input_length=maxlen))\n",
    "# Bidirectional GRU layer: Processes sequences in both directions\n",
    "model.add(Bidirectional(GRU(128, return_sequences=True, kernel_regularizer=regularizers.l2(0.01))))\n",
    "# Normalize the activations to stabilize training\n",
    "model.add(LayerNormalization())\n",
    "# Dropout layer: Helps prevent overfitting by randomly setting a fraction of input units to 0\n",
    "model.add(Dropout(0.2))\n",
    "# Another Bidirectional GRU layer\n",
    "model.add(Bidirectional(GRU(64, return_sequences=True, kernel_regularizer=regularizers.l2(0.01))))\n",
    "# Normalize activations\n",
    "model.add(LayerNormalization())\n",
    "# Dropout layer\n",
    "model.add(Dropout(0.2))\n",
    "# Another Bidirectional GRU layer with reduced units\n",
    "model.add(Bidirectional(GRU(32, kernel_regularizer=regularizers.l2(0.01))))\n",
    "# Dropout layer\n",
    "model.add(Dropout(0.2))\n",
    "# Output layer: Single neuron with sigmoid activation for binary classification\n",
    "model.add(Dense(1, activation='sigmoid'))\n",
    "\n",
    "# Compile the model\n",
    "# Using Adam optimizer with a learning rate of 0.001\n",
    "optimizer = tf.keras.optimizers.Adam(learning_rate=0.001)\n",
    "model.compile(optimizer=optimizer, loss='binary_crossentropy', metrics=['accuracy'])\n",
    "\n",
    "# Display the model summary to see the architecture\n",
    "model.summary()"
   ]
  },
  {
   "cell_type": "markdown",
   "id": "78ae5352-0f14-47bb-9b8c-9c077ba52bb6",
   "metadata": {},
   "source": [
    "## Train the Model"
   ]
  },
  {
   "cell_type": "code",
   "execution_count": 8,
   "id": "faa7aa71-e697-417a-adf8-73b910b7cba7",
   "metadata": {},
   "outputs": [
    {
     "name": "stdout",
     "output_type": "stream",
     "text": [
      "Epoch 1/20\n",
      "313/313 [==============================] - 96s 282ms/step - loss: 2.3230 - accuracy: 0.7620 - val_loss: 0.4712 - val_accuracy: 0.8884 - lr: 0.0010\n",
      "Epoch 2/20\n",
      "313/313 [==============================] - 88s 281ms/step - loss: 0.3679 - accuracy: 0.9017 - val_loss: 0.3362 - val_accuracy: 0.8946 - lr: 0.0010\n",
      "Epoch 3/20\n",
      "313/313 [==============================] - 88s 282ms/step - loss: 0.2260 - accuracy: 0.9395 - val_loss: 0.3719 - val_accuracy: 0.8714 - lr: 0.0010\n",
      "Epoch 4/20\n",
      "313/313 [==============================] - 88s 282ms/step - loss: 0.1666 - accuracy: 0.9560 - val_loss: 0.3686 - val_accuracy: 0.8810 - lr: 0.0010\n",
      "Epoch 5/20\n",
      "313/313 [==============================] - 88s 281ms/step - loss: 0.1063 - accuracy: 0.9768 - val_loss: 0.4078 - val_accuracy: 0.8816 - lr: 5.0000e-04\n",
      "Epoch 6/20\n",
      "313/313 [==============================] - 88s 280ms/step - loss: 0.0873 - accuracy: 0.9821 - val_loss: 0.4679 - val_accuracy: 0.8746 - lr: 5.0000e-04\n"
     ]
    }
   ],
   "source": [
    "# Define callbacks\n",
    "# Early stopping: Stop training when the validation loss stops improving\n",
    "early_stopping = EarlyStopping(monitor='val_loss', patience=4, restore_best_weights=True)\n",
    "# Learning rate scheduler: Reduce the learning rate when validation loss plateaus\n",
    "lr_scheduler = ReduceLROnPlateau(monitor='val_loss', factor=0.5, patience=2, min_lr=1e-6)\n",
    "\n",
    "# Train the model\n",
    "history = model.fit(\n",
    "    train_data_padded, train_labels,\n",
    "    epochs=20,  # Number of epochs to train\n",
    "    batch_size=64,  # Size of each batch\n",
    "    validation_split=0.2,  # Fraction of training data to use for validation\n",
    "    callbacks=[early_stopping, lr_scheduler]  # Callbacks to monitor training\n",
    ")"
   ]
  },
  {
   "cell_type": "markdown",
   "id": "9be2be5c-7548-4906-b430-7a933cf9b1b2",
   "metadata": {},
   "source": [
    "## Evaluate the model"
   ]
  },
  {
   "cell_type": "code",
   "execution_count": 10,
   "id": "809e1f3f-33f4-401d-85e6-c9ae9e866c94",
   "metadata": {},
   "outputs": [
    {
     "name": "stdout",
     "output_type": "stream",
     "text": [
      "782/782 [==============================] - 78s 100ms/step - loss: 0.3491 - accuracy: 0.8852\n",
      "Test Accuracy: 0.8852\n",
      "Test Loss: 0.3491\n"
     ]
    }
   ],
   "source": [
    "# Evaluate the model on test data\n",
    "test_loss, test_acc = model.evaluate(test_data_padded, test_labels)\n",
    "print(f\"Test Accuracy: {test_acc:.4f}\")\n",
    "print(f\"Test Loss: {test_loss:.4f}\")"
   ]
  },
  {
   "cell_type": "markdown",
   "id": "4198a9d5-506a-4fbf-b30e-a67d7bd37398",
   "metadata": {},
   "source": [
    "## Predict and Display Results"
   ]
  },
  {
   "cell_type": "code",
   "execution_count": 12,
   "id": "508cadea-3aea-405d-9dad-f9ed14064c23",
   "metadata": {},
   "outputs": [
    {
     "name": "stdout",
     "output_type": "stream",
     "text": [
      "782/782 [==============================] - 76s 95ms/step\n",
      "              precision    recall  f1-score   support\n",
      "\n",
      "    Negative       0.88      0.90      0.89     12500\n",
      "    Positive       0.90      0.87      0.88     12500\n",
      "\n",
      "    accuracy                           0.89     25000\n",
      "   macro avg       0.89      0.89      0.89     25000\n",
      "weighted avg       0.89      0.89      0.89     25000\n",
      "\n"
     ]
    },
    {
     "data": {
      "image/png": "[encoded data removed]",
      "text/plain": [
       "<Figure size 800x600 with 2 Axes>"
      ]
     },
     "metadata": {},
     "output_type": "display_data"
    }
   ],
   "source": [
    "# Predict sentiments on the test data\n",
    "# Generate predictions and convert probabilities to binary labels\n",
    "predictions = model.predict(test_data_padded)\n",
    "predicted_labels = (predictions > 0.5).astype(int)\n",
    "\n",
    "# Display classification report\n",
    "# This report includes precision, recall, and F1-score for each class\n",
    "print(classification_report(test_labels, predicted_labels, target_names=['Negative', 'Positive']))\n",
    "\n",
    "# Plot confusion matrix\n",
    "# This matrix shows true vs. predicted class labels\n",
    "cm = confusion_matrix(test_labels, predicted_labels)\n",
    "plt.figure(figsize=(8, 6))\n",
    "sns.heatmap(cm, annot=True, fmt='d', cmap='Blues', xticklabels=['Negative', 'Positive'], yticklabels=['Negative', 'Positive'])\n",
    "plt.xlabel('Predicted')\n",
    "plt.ylabel('True')\n",
    "plt.title('Confusion Matrix')\n",
    "plt.show()"
   ]
  }
 ],
 "metadata": {
  "kernelspec": {
   "display_name": "Python 3 (ipykernel)",
   "language": "python",
   "name": "python3"
  },
  "language_info": {
   "codemirror_mode": {
    "name": "ipython",
    "version": 3
   },
   "file_extension": ".py",
   "mimetype": "text/x-python",
   "name": "python",
   "nbconvert_exporter": "python",
   "pygments_lexer": "ipython3",
   "version": "3.10.14"
  }
 },
 "nbformat": 4,
 "nbformat_minor": 5
}
